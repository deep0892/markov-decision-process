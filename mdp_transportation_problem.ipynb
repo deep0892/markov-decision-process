{
  "nbformat": 4,
  "nbformat_minor": 0,
  "metadata": {
    "colab": {
      "name": "mdp.ipynb",
      "provenance": [],
      "collapsed_sections": []
    },
    "kernelspec": {
      "name": "python3",
      "display_name": "Python 3"
    },
    "language_info": {
      "name": "python"
    }
  },
  "cells": [
    {
      "cell_type": "code",
      "metadata": {
        "id": "vdnzvK56Bbeg"
      },
      "source": [
        "import sys\n",
        "sys.setrecursionlimit(10000)"
      ],
      "execution_count": 3,
      "outputs": []
    },
    {
      "cell_type": "code",
      "metadata": {
        "id": "iyiDCL_bBkqT"
      },
      "source": [
        "class TransportationMDP(object):\n",
        "  def __init__(self,N):\n",
        "    # N is the number of blocks\n",
        "    self.N = N\n",
        "\n",
        "  def startState(self):\n",
        "    return 1\n",
        "\n",
        "  def isEnd(self, state):\n",
        "    return state == self.N\n",
        "\n",
        "  def actions(self, state):\n",
        "    # return list of valid actions that can be taken for the current state\n",
        "    result = []\n",
        "    if state+1 <= self.N:\n",
        "      result.append('walk')\n",
        "    if state*2 <= self.N:\n",
        "      result.append('tram')\n",
        "    return result\n",
        "\n",
        "  def succProbReward(self, state, action):\n",
        "    # return list of (newState, prob, reward) triplet\n",
        "    # state = s, action = a, newState = s`\n",
        "    # prob = T(s,a,s`), reward = Reward(s,a,s`)\n",
        "    result = []\n",
        "    if action == 'walk':\n",
        "      result.append((state+1, 1, -1))\n",
        "    elif action == 'tram':\n",
        "      result.append((state*2, 0.5, -2))\n",
        "      result.append((state, 0.5, -2))\n",
        "    return result\n",
        "\n",
        "  def discount(self):\n",
        "    return 1\n",
        "  \n",
        "  def states(self):\n",
        "    return range(1, N+1)\n"
      ],
      "execution_count": 5,
      "outputs": []
    },
    {
      "cell_type": "code",
      "metadata": {
        "id": "8FriR3YVDdX8"
      },
      "source": [
        "mdp = TransportationMDP(N=10)"
      ],
      "execution_count": 6,
      "outputs": []
    },
    {
      "cell_type": "code",
      "metadata": {
        "colab": {
          "base_uri": "https://localhost:8080/"
        },
        "id": "RPoCdbFYDpkw",
        "outputId": "7f158b47-fc06-489c-9971-bc9b22de3bad"
      },
      "source": [
        "mdp.actions(3)"
      ],
      "execution_count": 7,
      "outputs": [
        {
          "output_type": "execute_result",
          "data": {
            "text/plain": [
              "['walk', 'tram']"
            ]
          },
          "metadata": {
            "tags": []
          },
          "execution_count": 7
        }
      ]
    },
    {
      "cell_type": "code",
      "metadata": {
        "colab": {
          "base_uri": "https://localhost:8080/"
        },
        "id": "hDllSIuxDswQ",
        "outputId": "4141c45b-e1ec-4415-9a4f-e74f19f384ed"
      },
      "source": [
        "mdp.succProbReward(3,'walk')"
      ],
      "execution_count": 8,
      "outputs": [
        {
          "output_type": "execute_result",
          "data": {
            "text/plain": [
              "[(4, 1, -1)]"
            ]
          },
          "metadata": {
            "tags": []
          },
          "execution_count": 8
        }
      ]
    },
    {
      "cell_type": "code",
      "metadata": {
        "colab": {
          "base_uri": "https://localhost:8080/"
        },
        "id": "-oHiATFfD6RW",
        "outputId": "423a9667-71a7-4060-a865-8715647ebd8e"
      },
      "source": [
        "mdp.succProbReward(3,'tram')"
      ],
      "execution_count": 9,
      "outputs": [
        {
          "output_type": "execute_result",
          "data": {
            "text/plain": [
              "[(6, 0.5, -2), (3, 0.5, -2)]"
            ]
          },
          "metadata": {
            "tags": []
          },
          "execution_count": 9
        }
      ]
    },
    {
      "cell_type": "code",
      "metadata": {
        "id": "HALWx34TEbom"
      },
      "source": [
        ""
      ],
      "execution_count": null,
      "outputs": []
    }
  ]
}