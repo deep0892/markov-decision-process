{
  "nbformat": 4,
  "nbformat_minor": 0,
  "metadata": {
    "colab": {
      "name": "mdp.ipynb",
      "provenance": [],
      "collapsed_sections": []
    },
    "kernelspec": {
      "name": "python3",
      "display_name": "Python 3"
    },
    "language_info": {
      "name": "python"
    }
  },
  "cells": [
    {
      "cell_type": "code",
      "metadata": {
        "id": "vdnzvK56Bbeg"
      },
      "source": [
        "import sys\n",
        "sys.setrecursionlimit(10000)"
      ],
      "execution_count": 1,
      "outputs": []
    },
    {
      "cell_type": "code",
      "metadata": {
        "id": "iyiDCL_bBkqT"
      },
      "source": [
        "class TransportationMDP(object):\n",
        "  def __init__(self,N):\n",
        "    # N is the number of blocks\n",
        "    self.N = N\n",
        "\n",
        "  def startState(self):\n",
        "    return 1\n",
        "\n",
        "  def isEnd(self, state):\n",
        "    return state == self.N\n",
        "\n",
        "  def actions(self, state):\n",
        "    # return list of valid actions that can be taken for the current state\n",
        "    result = []\n",
        "    if state+1 <= self.N:\n",
        "      result.append('walk')\n",
        "    if state*2 <= self.N:\n",
        "      result.append('tram')\n",
        "    return result\n",
        "\n",
        "  def succProbReward(self, state, action):\n",
        "    # return list of (newState, prob, reward) triplet\n",
        "    # state = s, action = a, newState = s`\n",
        "    # prob = T(s,a,s`), reward = Reward(s,a,s`)\n",
        "    result = []\n",
        "    if action == 'walk':\n",
        "      result.append((state+1, 1, -1))\n",
        "    elif action == 'tram':\n",
        "      failProb = 0.9\n",
        "      result.append((state*2, failProb, -2))\n",
        "      result.append((state, failProb, -2))\n",
        "    return result\n",
        "\n",
        "  def discount(self):\n",
        "    return 1\n",
        "  \n",
        "  def states(self):\n",
        "    return range(1, self.N+1)\n"
      ],
      "execution_count": 27,
      "outputs": []
    },
    {
      "cell_type": "code",
      "metadata": {
        "id": "8FriR3YVDdX8"
      },
      "source": [
        "mdp = TransportationMDP(N=10)"
      ],
      "execution_count": 28,
      "outputs": []
    },
    {
      "cell_type": "code",
      "metadata": {
        "colab": {
          "base_uri": "https://localhost:8080/"
        },
        "id": "RPoCdbFYDpkw",
        "outputId": "b80514a7-d3c9-4470-c108-8a7ba5c1e0bd"
      },
      "source": [
        "mdp.actions(3)"
      ],
      "execution_count": 29,
      "outputs": [
        {
          "output_type": "execute_result",
          "data": {
            "text/plain": [
              "['walk', 'tram']"
            ]
          },
          "metadata": {
            "tags": []
          },
          "execution_count": 29
        }
      ]
    },
    {
      "cell_type": "code",
      "metadata": {
        "colab": {
          "base_uri": "https://localhost:8080/"
        },
        "id": "hDllSIuxDswQ",
        "outputId": "bb5f334c-01b9-419d-d4e2-a0b96419524b"
      },
      "source": [
        "mdp.succProbReward(3,'walk')"
      ],
      "execution_count": 30,
      "outputs": [
        {
          "output_type": "execute_result",
          "data": {
            "text/plain": [
              "[(4, 1, -1)]"
            ]
          },
          "metadata": {
            "tags": []
          },
          "execution_count": 30
        }
      ]
    },
    {
      "cell_type": "code",
      "metadata": {
        "colab": {
          "base_uri": "https://localhost:8080/"
        },
        "id": "-oHiATFfD6RW",
        "outputId": "480d4690-dad4-4740-98ec-100247cb997f"
      },
      "source": [
        "mdp.succProbReward(3,'tram')"
      ],
      "execution_count": 31,
      "outputs": [
        {
          "output_type": "execute_result",
          "data": {
            "text/plain": [
              "[(6, 0.9, -2), (3, 0.9, -2)]"
            ]
          },
          "metadata": {
            "tags": []
          },
          "execution_count": 31
        }
      ]
    },
    {
      "cell_type": "code",
      "metadata": {
        "id": "HALWx34TEbom"
      },
      "source": [
        "def valueIteration(mdp):\n",
        "  #initialize\n",
        "  V = {} #state -> Vopt[state]\n",
        "  for state in mdp.states():\n",
        "    V[state] = 0\n",
        "  \n",
        "  def Q(state, action):\n",
        "    return sum( prob * (reward + mdp.discount() * V[newState])\n",
        "        for newState, prob, reward in mdp.succProbReward(state, action)\n",
        "    )\n",
        "  \n",
        "  while True:\n",
        "    #compute new values of newV given the old value V\n",
        "    newV = {}\n",
        "    for state in mdp.states():\n",
        "      if mdp.isEnd(state):\n",
        "        newV[state] = 0\n",
        "      else:\n",
        "        newV[state] = max( Q(state, action) for action in mdp.actions(state) )\n",
        "    \n",
        "    #check for convergence\n",
        "    if max( abs(V[state] -newV[state] ) for state in mdp.states() ) < 1e-10:\n",
        "      break\n",
        "\n",
        "    V = newV\n",
        "\n",
        "    #read out policy\n",
        "    pi = {}\n",
        "    for state in mdp.states():\n",
        "      if mdp.isEnd(state):\n",
        "        pi[state] = 'none'\n",
        "      else:\n",
        "        pi[state] =max(\n",
        "            ( Q(state, action), action) for action in mdp.actions(state)\n",
        "        ) [1]\n",
        "    \n",
        "    # print stuff out\n",
        "    print(\"{:15} {:15} {:15}\".format('s', 'V(s)', 'pi(s)'))\n",
        "    for state in mdp.states():\n",
        "      print(\"{:15} {:15} {:15}\".format(state, V[state], pi[state]))\n",
        "    "
      ],
      "execution_count": 32,
      "outputs": []
    },
    {
      "cell_type": "code",
      "metadata": {
        "colab": {
          "base_uri": "https://localhost:8080/"
        },
        "id": "ijtaXIOp9vaI",
        "outputId": "fed4960e-cd08-4c49-f4a8-105a8b81bc93"
      },
      "source": [
        "valueIteration(mdp)"
      ],
      "execution_count": 33,
      "outputs": [
        {
          "output_type": "stream",
          "text": [
            "s               V(s)            pi(s)          \n",
            "              1              -1 walk           \n",
            "              2              -1 walk           \n",
            "              3              -1 walk           \n",
            "              4              -1 walk           \n",
            "              5              -1 walk           \n",
            "              6              -1 walk           \n",
            "              7              -1 walk           \n",
            "              8              -1 walk           \n",
            "              9              -1 walk           \n",
            "             10               0 none           \n",
            "s               V(s)            pi(s)          \n",
            "              1              -2 walk           \n",
            "              2              -2 walk           \n",
            "              3              -2 walk           \n",
            "              4              -2 walk           \n",
            "              5              -2 walk           \n",
            "              6              -2 walk           \n",
            "              7              -2 walk           \n",
            "              8              -2 walk           \n",
            "              9              -1 walk           \n",
            "             10               0 none           \n",
            "s               V(s)            pi(s)          \n",
            "              1              -3 walk           \n",
            "              2              -3 walk           \n",
            "              3              -3 walk           \n",
            "              4              -3 walk           \n",
            "              5              -3 walk           \n",
            "              6              -3 walk           \n",
            "              7              -3 walk           \n",
            "              8              -2 walk           \n",
            "              9              -1 walk           \n",
            "             10               0 none           \n",
            "s               V(s)            pi(s)          \n",
            "              1              -4 walk           \n",
            "              2              -4 walk           \n",
            "              3              -4 walk           \n",
            "              4              -4 walk           \n",
            "              5              -4 walk           \n",
            "              6              -4 walk           \n",
            "              7              -3 walk           \n",
            "              8              -2 walk           \n",
            "              9              -1 walk           \n",
            "             10               0 none           \n",
            "s               V(s)            pi(s)          \n",
            "              1              -5 walk           \n",
            "              2              -5 walk           \n",
            "              3              -5 walk           \n",
            "              4              -5 walk           \n",
            "              5              -5 walk           \n",
            "              6              -4 walk           \n",
            "              7              -3 walk           \n",
            "              8              -2 walk           \n",
            "              9              -1 walk           \n",
            "             10               0 none           \n",
            "s               V(s)            pi(s)          \n",
            "              1              -6 walk           \n",
            "              2              -6 walk           \n",
            "              3              -6 walk           \n",
            "              4              -6 walk           \n",
            "              5              -5 walk           \n",
            "              6              -4 walk           \n",
            "              7              -3 walk           \n",
            "              8              -2 walk           \n",
            "              9              -1 walk           \n",
            "             10               0 none           \n",
            "s               V(s)            pi(s)          \n",
            "              1              -7 walk           \n",
            "              2              -7 walk           \n",
            "              3              -7 walk           \n",
            "              4              -6 walk           \n",
            "              5              -5 walk           \n",
            "              6              -4 walk           \n",
            "              7              -3 walk           \n",
            "              8              -2 walk           \n",
            "              9              -1 walk           \n",
            "             10               0 none           \n",
            "s               V(s)            pi(s)          \n",
            "              1              -8 walk           \n",
            "              2              -8 walk           \n",
            "              3              -7 walk           \n",
            "              4              -6 walk           \n",
            "              5              -5 walk           \n",
            "              6              -4 walk           \n",
            "              7              -3 walk           \n",
            "              8              -2 walk           \n",
            "              9              -1 walk           \n",
            "             10               0 none           \n",
            "s               V(s)            pi(s)          \n",
            "              1              -9 walk           \n",
            "              2              -8 walk           \n",
            "              3              -7 walk           \n",
            "              4              -6 walk           \n",
            "              5              -5 walk           \n",
            "              6              -4 walk           \n",
            "              7              -3 walk           \n",
            "              8              -2 walk           \n",
            "              9              -1 walk           \n",
            "             10               0 none           \n"
          ],
          "name": "stdout"
        }
      ]
    },
    {
      "cell_type": "code",
      "metadata": {
        "id": "821XKcD593BC"
      },
      "source": [
        ""
      ],
      "execution_count": null,
      "outputs": []
    }
  ]
}